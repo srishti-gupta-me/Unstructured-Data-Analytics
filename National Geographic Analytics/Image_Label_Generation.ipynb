{
  "nbformat": 4,
  "nbformat_minor": 0,
  "metadata": {
    "colab": {
      "provenance": []
    },
    "kernelspec": {
      "name": "python3",
      "display_name": "Python 3"
    },
    "language_info": {
      "name": "python"
    }
  },
  "cells": [
    {
      "cell_type": "code",
      "source": [
        "!pip3 install google-cloud-vision"
      ],
      "metadata": {
        "colab": {
          "base_uri": "https://localhost:8080/"
        },
        "id": "pShbwREXQs8V",
        "outputId": "3c35608f-f79f-4d53-851a-40a4f37499d6"
      },
      "execution_count": null,
      "outputs": [
        {
          "output_type": "stream",
          "name": "stdout",
          "text": [
            "Requirement already satisfied: google-cloud-vision in /usr/local/lib/python3.10/dist-packages (3.7.0)\n",
            "Requirement already satisfied: google-api-core[grpc]!=2.0.*,!=2.1.*,!=2.10.*,!=2.2.*,!=2.3.*,!=2.4.*,!=2.5.*,!=2.6.*,!=2.7.*,!=2.8.*,!=2.9.*,<3.0.0dev,>=1.34.0 in /usr/local/lib/python3.10/dist-packages (from google-cloud-vision) (2.11.1)\n",
            "Requirement already satisfied: google-auth<3.0.0dev,>=2.14.1 in /usr/local/lib/python3.10/dist-packages (from google-cloud-vision) (2.27.0)\n",
            "Requirement already satisfied: proto-plus<2.0.0dev,>=1.22.3 in /usr/local/lib/python3.10/dist-packages (from google-cloud-vision) (1.23.0)\n",
            "Requirement already satisfied: protobuf!=3.20.0,!=3.20.1,!=4.21.0,!=4.21.1,!=4.21.2,!=4.21.3,!=4.21.4,!=4.21.5,<5.0.0dev,>=3.19.5 in /usr/local/lib/python3.10/dist-packages (from google-cloud-vision) (3.20.3)\n",
            "Requirement already satisfied: googleapis-common-protos<2.0.dev0,>=1.56.2 in /usr/local/lib/python3.10/dist-packages (from google-api-core[grpc]!=2.0.*,!=2.1.*,!=2.10.*,!=2.2.*,!=2.3.*,!=2.4.*,!=2.5.*,!=2.6.*,!=2.7.*,!=2.8.*,!=2.9.*,<3.0.0dev,>=1.34.0->google-cloud-vision) (1.62.0)\n",
            "Requirement already satisfied: requests<3.0.0.dev0,>=2.18.0 in /usr/local/lib/python3.10/dist-packages (from google-api-core[grpc]!=2.0.*,!=2.1.*,!=2.10.*,!=2.2.*,!=2.3.*,!=2.4.*,!=2.5.*,!=2.6.*,!=2.7.*,!=2.8.*,!=2.9.*,<3.0.0dev,>=1.34.0->google-cloud-vision) (2.31.0)\n",
            "Requirement already satisfied: grpcio<2.0dev,>=1.33.2 in /usr/local/lib/python3.10/dist-packages (from google-api-core[grpc]!=2.0.*,!=2.1.*,!=2.10.*,!=2.2.*,!=2.3.*,!=2.4.*,!=2.5.*,!=2.6.*,!=2.7.*,!=2.8.*,!=2.9.*,<3.0.0dev,>=1.34.0->google-cloud-vision) (1.60.1)\n",
            "Requirement already satisfied: grpcio-status<2.0.dev0,>=1.33.2 in /usr/local/lib/python3.10/dist-packages (from google-api-core[grpc]!=2.0.*,!=2.1.*,!=2.10.*,!=2.2.*,!=2.3.*,!=2.4.*,!=2.5.*,!=2.6.*,!=2.7.*,!=2.8.*,!=2.9.*,<3.0.0dev,>=1.34.0->google-cloud-vision) (1.48.2)\n",
            "Requirement already satisfied: cachetools<6.0,>=2.0.0 in /usr/local/lib/python3.10/dist-packages (from google-auth<3.0.0dev,>=2.14.1->google-cloud-vision) (5.3.2)\n",
            "Requirement already satisfied: pyasn1-modules>=0.2.1 in /usr/local/lib/python3.10/dist-packages (from google-auth<3.0.0dev,>=2.14.1->google-cloud-vision) (0.3.0)\n",
            "Requirement already satisfied: rsa<5,>=3.1.4 in /usr/local/lib/python3.10/dist-packages (from google-auth<3.0.0dev,>=2.14.1->google-cloud-vision) (4.9)\n",
            "Requirement already satisfied: pyasn1<0.6.0,>=0.4.6 in /usr/local/lib/python3.10/dist-packages (from pyasn1-modules>=0.2.1->google-auth<3.0.0dev,>=2.14.1->google-cloud-vision) (0.5.1)\n",
            "Requirement already satisfied: charset-normalizer<4,>=2 in /usr/local/lib/python3.10/dist-packages (from requests<3.0.0.dev0,>=2.18.0->google-api-core[grpc]!=2.0.*,!=2.1.*,!=2.10.*,!=2.2.*,!=2.3.*,!=2.4.*,!=2.5.*,!=2.6.*,!=2.7.*,!=2.8.*,!=2.9.*,<3.0.0dev,>=1.34.0->google-cloud-vision) (3.3.2)\n",
            "Requirement already satisfied: idna<4,>=2.5 in /usr/local/lib/python3.10/dist-packages (from requests<3.0.0.dev0,>=2.18.0->google-api-core[grpc]!=2.0.*,!=2.1.*,!=2.10.*,!=2.2.*,!=2.3.*,!=2.4.*,!=2.5.*,!=2.6.*,!=2.7.*,!=2.8.*,!=2.9.*,<3.0.0dev,>=1.34.0->google-cloud-vision) (3.6)\n",
            "Requirement already satisfied: urllib3<3,>=1.21.1 in /usr/local/lib/python3.10/dist-packages (from requests<3.0.0.dev0,>=2.18.0->google-api-core[grpc]!=2.0.*,!=2.1.*,!=2.10.*,!=2.2.*,!=2.3.*,!=2.4.*,!=2.5.*,!=2.6.*,!=2.7.*,!=2.8.*,!=2.9.*,<3.0.0dev,>=1.34.0->google-cloud-vision) (2.0.7)\n",
            "Requirement already satisfied: certifi>=2017.4.17 in /usr/local/lib/python3.10/dist-packages (from requests<3.0.0.dev0,>=2.18.0->google-api-core[grpc]!=2.0.*,!=2.1.*,!=2.10.*,!=2.2.*,!=2.3.*,!=2.4.*,!=2.5.*,!=2.6.*,!=2.7.*,!=2.8.*,!=2.9.*,<3.0.0dev,>=1.34.0->google-cloud-vision) (2024.2.2)\n"
          ]
        }
      ]
    },
    {
      "cell_type": "code",
      "source": [
        "from google.cloud import vision\n",
        "import io\n",
        "import os\n",
        "import pandas as pd\n",
        "import numpy as np"
      ],
      "metadata": {
        "id": "lJTpG_V_Qom_"
      },
      "execution_count": null,
      "outputs": []
    },
    {
      "cell_type": "code",
      "source": [
        "os.environ[\"GOOGLE_APPLICATION_CREDENTIALS\"] = \"natgeoanalytics-1df4edd54de3.json\""
      ],
      "metadata": {
        "id": "nMRicQcrQ8Lb"
      },
      "execution_count": null,
      "outputs": []
    },
    {
      "cell_type": "code",
      "source": [
        "df=pd.read_csv(\"data_sheet.csv\")"
      ],
      "metadata": {
        "id": "OlgKChANQ9Cf"
      },
      "execution_count": null,
      "outputs": []
    },
    {
      "cell_type": "code",
      "source": [
        "df['URL'][1]"
      ],
      "metadata": {
        "colab": {
          "base_uri": "https://localhost:8080/",
          "height": 52
        },
        "id": "RCxA_f-aSNu0",
        "outputId": "0f1a7354-bba2-4b5a-859a-073930470a4c"
      },
      "execution_count": null,
      "outputs": [
        {
          "output_type": "execute_result",
          "data": {
            "text/plain": [
              "'https://scontent-hou1-1.cdninstagram.com/v/t51.2885-15/307723625_160146663285741_3571520959207601833_n.jpg?stp=dst-jpg_e35_s1080x1080&_nc_ht=scontent-hou1-1.cdninstagram.com&_nc_cat=109&_nc_ohc=4lCsLS9Q1jkAX_fr0v3&edm=APU89FABAAAA&ccb=7-5&oh=00_AfBAm77nuS-cyVKXW1FpMv-mITPJFTY70AqS91r4LjI73Q&oe=65D68929&_nc_sid=bc0c2c'"
            ],
            "application/vnd.google.colaboratory.intrinsic+json": {
              "type": "string"
            }
          },
          "metadata": {},
          "execution_count": 6
        }
      ]
    },
    {
      "cell_type": "code",
      "source": [
        "counter=0\n",
        "\n",
        "def detect_labels_url(url):\n",
        "    global counter\n",
        "    label_list=''\n",
        "\n",
        "    try:\n",
        "      client = vision.ImageAnnotatorClient()\n",
        "      image = vision.Image()\n",
        "      image.source.image_uri = url\n",
        "\n",
        "      response = client.label_detection(image=image)\n",
        "\n",
        "      # Check for errors in the response\n",
        "      if response.error.message:\n",
        "        raise Exception(f'API Error: {response.error.message}')\n",
        "\n",
        "      labels = response.label_annotations\n",
        "      if labels:\n",
        "          for label in labels:\n",
        "            label_list+=label.description+', '\n",
        "\n",
        "\n",
        "      else:\n",
        "        print(\"No labels detected.\")\n",
        "\n",
        "\n",
        "\n",
        "    except:\n",
        "      pass\n",
        "\n",
        "    counter+=1\n",
        "    return label_list.rstrip(' ').rstrip(',')"
      ],
      "metadata": {
        "id": "mCT42MOUS3kn"
      },
      "execution_count": null,
      "outputs": []
    },
    {
      "cell_type": "code",
      "source": [
        "df['Label']=np.nan\n",
        "df.head()"
      ],
      "metadata": {
        "colab": {
          "base_uri": "https://localhost:8080/",
          "height": 204
        },
        "id": "xYIxoR_sozXp",
        "outputId": "b8f8e514-1d0b-4826-fabc-a0d0541d8f3e"
      },
      "execution_count": null,
      "outputs": [
        {
          "output_type": "execute_result",
          "data": {
            "text/plain": [
              "   Unnamed: 0  Number                                            Caption  \\\n",
              "0           0       1  Photo by @estherhorvath | Moss-covered trees a...   \n",
              "1           1       2  Photo by @beverlyjoubert | My, what teeth you ...   \n",
              "2           2       3  Photo by @acacia.johnson | The first rays of a...   \n",
              "3           3       4  Photo by @jasperdoest | A white stork searches...   \n",
              "4           4       5  Photo by Robbie Shone @shonephoto | A cave sur...   \n",
              "\n",
              "     Like                                                URL  Label  \n",
              "0   97727  https://scontent-hou1-1.cdninstagram.com/v/t51...    NaN  \n",
              "1  195558  https://scontent-hou1-1.cdninstagram.com/v/t51...    NaN  \n",
              "2  121855  https://scontent-hou1-1.cdninstagram.com/v/t51...    NaN  \n",
              "3   89130  https://scontent-hou1-1.cdninstagram.com/v/t51...    NaN  \n",
              "4   55653  https://scontent-hou1-1.cdninstagram.com/v/t51...    NaN  "
            ],
            "text/html": [
              "\n",
              "  <div id=\"df-2629abcf-d438-4de5-9d66-c4ab7f8a8d35\" class=\"colab-df-container\">\n",
              "    <div>\n",
              "<style scoped>\n",
              "    .dataframe tbody tr th:only-of-type {\n",
              "        vertical-align: middle;\n",
              "    }\n",
              "\n",
              "    .dataframe tbody tr th {\n",
              "        vertical-align: top;\n",
              "    }\n",
              "\n",
              "    .dataframe thead th {\n",
              "        text-align: right;\n",
              "    }\n",
              "</style>\n",
              "<table border=\"1\" class=\"dataframe\">\n",
              "  <thead>\n",
              "    <tr style=\"text-align: right;\">\n",
              "      <th></th>\n",
              "      <th>Unnamed: 0</th>\n",
              "      <th>Number</th>\n",
              "      <th>Caption</th>\n",
              "      <th>Like</th>\n",
              "      <th>URL</th>\n",
              "      <th>Label</th>\n",
              "    </tr>\n",
              "  </thead>\n",
              "  <tbody>\n",
              "    <tr>\n",
              "      <th>0</th>\n",
              "      <td>0</td>\n",
              "      <td>1</td>\n",
              "      <td>Photo by @estherhorvath | Moss-covered trees a...</td>\n",
              "      <td>97727</td>\n",
              "      <td>https://scontent-hou1-1.cdninstagram.com/v/t51...</td>\n",
              "      <td>NaN</td>\n",
              "    </tr>\n",
              "    <tr>\n",
              "      <th>1</th>\n",
              "      <td>1</td>\n",
              "      <td>2</td>\n",
              "      <td>Photo by @beverlyjoubert | My, what teeth you ...</td>\n",
              "      <td>195558</td>\n",
              "      <td>https://scontent-hou1-1.cdninstagram.com/v/t51...</td>\n",
              "      <td>NaN</td>\n",
              "    </tr>\n",
              "    <tr>\n",
              "      <th>2</th>\n",
              "      <td>2</td>\n",
              "      <td>3</td>\n",
              "      <td>Photo by @acacia.johnson | The first rays of a...</td>\n",
              "      <td>121855</td>\n",
              "      <td>https://scontent-hou1-1.cdninstagram.com/v/t51...</td>\n",
              "      <td>NaN</td>\n",
              "    </tr>\n",
              "    <tr>\n",
              "      <th>3</th>\n",
              "      <td>3</td>\n",
              "      <td>4</td>\n",
              "      <td>Photo by @jasperdoest | A white stork searches...</td>\n",
              "      <td>89130</td>\n",
              "      <td>https://scontent-hou1-1.cdninstagram.com/v/t51...</td>\n",
              "      <td>NaN</td>\n",
              "    </tr>\n",
              "    <tr>\n",
              "      <th>4</th>\n",
              "      <td>4</td>\n",
              "      <td>5</td>\n",
              "      <td>Photo by Robbie Shone @shonephoto | A cave sur...</td>\n",
              "      <td>55653</td>\n",
              "      <td>https://scontent-hou1-1.cdninstagram.com/v/t51...</td>\n",
              "      <td>NaN</td>\n",
              "    </tr>\n",
              "  </tbody>\n",
              "</table>\n",
              "</div>\n",
              "    <div class=\"colab-df-buttons\">\n",
              "\n",
              "  <div class=\"colab-df-container\">\n",
              "    <button class=\"colab-df-convert\" onclick=\"convertToInteractive('df-2629abcf-d438-4de5-9d66-c4ab7f8a8d35')\"\n",
              "            title=\"Convert this dataframe to an interactive table.\"\n",
              "            style=\"display:none;\">\n",
              "\n",
              "  <svg xmlns=\"http://www.w3.org/2000/svg\" height=\"24px\" viewBox=\"0 -960 960 960\">\n",
              "    <path d=\"M120-120v-720h720v720H120Zm60-500h600v-160H180v160Zm220 220h160v-160H400v160Zm0 220h160v-160H400v160ZM180-400h160v-160H180v160Zm440 0h160v-160H620v160ZM180-180h160v-160H180v160Zm440 0h160v-160H620v160Z\"/>\n",
              "  </svg>\n",
              "    </button>\n",
              "\n",
              "  <style>\n",
              "    .colab-df-container {\n",
              "      display:flex;\n",
              "      gap: 12px;\n",
              "    }\n",
              "\n",
              "    .colab-df-convert {\n",
              "      background-color: #E8F0FE;\n",
              "      border: none;\n",
              "      border-radius: 50%;\n",
              "      cursor: pointer;\n",
              "      display: none;\n",
              "      fill: #1967D2;\n",
              "      height: 32px;\n",
              "      padding: 0 0 0 0;\n",
              "      width: 32px;\n",
              "    }\n",
              "\n",
              "    .colab-df-convert:hover {\n",
              "      background-color: #E2EBFA;\n",
              "      box-shadow: 0px 1px 2px rgba(60, 64, 67, 0.3), 0px 1px 3px 1px rgba(60, 64, 67, 0.15);\n",
              "      fill: #174EA6;\n",
              "    }\n",
              "\n",
              "    .colab-df-buttons div {\n",
              "      margin-bottom: 4px;\n",
              "    }\n",
              "\n",
              "    [theme=dark] .colab-df-convert {\n",
              "      background-color: #3B4455;\n",
              "      fill: #D2E3FC;\n",
              "    }\n",
              "\n",
              "    [theme=dark] .colab-df-convert:hover {\n",
              "      background-color: #434B5C;\n",
              "      box-shadow: 0px 1px 3px 1px rgba(0, 0, 0, 0.15);\n",
              "      filter: drop-shadow(0px 1px 2px rgba(0, 0, 0, 0.3));\n",
              "      fill: #FFFFFF;\n",
              "    }\n",
              "  </style>\n",
              "\n",
              "    <script>\n",
              "      const buttonEl =\n",
              "        document.querySelector('#df-2629abcf-d438-4de5-9d66-c4ab7f8a8d35 button.colab-df-convert');\n",
              "      buttonEl.style.display =\n",
              "        google.colab.kernel.accessAllowed ? 'block' : 'none';\n",
              "\n",
              "      async function convertToInteractive(key) {\n",
              "        const element = document.querySelector('#df-2629abcf-d438-4de5-9d66-c4ab7f8a8d35');\n",
              "        const dataTable =\n",
              "          await google.colab.kernel.invokeFunction('convertToInteractive',\n",
              "                                                    [key], {});\n",
              "        if (!dataTable) return;\n",
              "\n",
              "        const docLinkHtml = 'Like what you see? Visit the ' +\n",
              "          '<a target=\"_blank\" href=https://colab.research.google.com/notebooks/data_table.ipynb>data table notebook</a>'\n",
              "          + ' to learn more about interactive tables.';\n",
              "        element.innerHTML = '';\n",
              "        dataTable['output_type'] = 'display_data';\n",
              "        await google.colab.output.renderOutput(dataTable, element);\n",
              "        const docLink = document.createElement('div');\n",
              "        docLink.innerHTML = docLinkHtml;\n",
              "        element.appendChild(docLink);\n",
              "      }\n",
              "    </script>\n",
              "  </div>\n",
              "\n",
              "\n",
              "<div id=\"df-9f71ac05-bde3-444e-9fb9-1330b636340c\">\n",
              "  <button class=\"colab-df-quickchart\" onclick=\"quickchart('df-9f71ac05-bde3-444e-9fb9-1330b636340c')\"\n",
              "            title=\"Suggest charts\"\n",
              "            style=\"display:none;\">\n",
              "\n",
              "<svg xmlns=\"http://www.w3.org/2000/svg\" height=\"24px\"viewBox=\"0 0 24 24\"\n",
              "     width=\"24px\">\n",
              "    <g>\n",
              "        <path d=\"M19 3H5c-1.1 0-2 .9-2 2v14c0 1.1.9 2 2 2h14c1.1 0 2-.9 2-2V5c0-1.1-.9-2-2-2zM9 17H7v-7h2v7zm4 0h-2V7h2v10zm4 0h-2v-4h2v4z\"/>\n",
              "    </g>\n",
              "</svg>\n",
              "  </button>\n",
              "\n",
              "<style>\n",
              "  .colab-df-quickchart {\n",
              "      --bg-color: #E8F0FE;\n",
              "      --fill-color: #1967D2;\n",
              "      --hover-bg-color: #E2EBFA;\n",
              "      --hover-fill-color: #174EA6;\n",
              "      --disabled-fill-color: #AAA;\n",
              "      --disabled-bg-color: #DDD;\n",
              "  }\n",
              "\n",
              "  [theme=dark] .colab-df-quickchart {\n",
              "      --bg-color: #3B4455;\n",
              "      --fill-color: #D2E3FC;\n",
              "      --hover-bg-color: #434B5C;\n",
              "      --hover-fill-color: #FFFFFF;\n",
              "      --disabled-bg-color: #3B4455;\n",
              "      --disabled-fill-color: #666;\n",
              "  }\n",
              "\n",
              "  .colab-df-quickchart {\n",
              "    background-color: var(--bg-color);\n",
              "    border: none;\n",
              "    border-radius: 50%;\n",
              "    cursor: pointer;\n",
              "    display: none;\n",
              "    fill: var(--fill-color);\n",
              "    height: 32px;\n",
              "    padding: 0;\n",
              "    width: 32px;\n",
              "  }\n",
              "\n",
              "  .colab-df-quickchart:hover {\n",
              "    background-color: var(--hover-bg-color);\n",
              "    box-shadow: 0 1px 2px rgba(60, 64, 67, 0.3), 0 1px 3px 1px rgba(60, 64, 67, 0.15);\n",
              "    fill: var(--button-hover-fill-color);\n",
              "  }\n",
              "\n",
              "  .colab-df-quickchart-complete:disabled,\n",
              "  .colab-df-quickchart-complete:disabled:hover {\n",
              "    background-color: var(--disabled-bg-color);\n",
              "    fill: var(--disabled-fill-color);\n",
              "    box-shadow: none;\n",
              "  }\n",
              "\n",
              "  .colab-df-spinner {\n",
              "    border: 2px solid var(--fill-color);\n",
              "    border-color: transparent;\n",
              "    border-bottom-color: var(--fill-color);\n",
              "    animation:\n",
              "      spin 1s steps(1) infinite;\n",
              "  }\n",
              "\n",
              "  @keyframes spin {\n",
              "    0% {\n",
              "      border-color: transparent;\n",
              "      border-bottom-color: var(--fill-color);\n",
              "      border-left-color: var(--fill-color);\n",
              "    }\n",
              "    20% {\n",
              "      border-color: transparent;\n",
              "      border-left-color: var(--fill-color);\n",
              "      border-top-color: var(--fill-color);\n",
              "    }\n",
              "    30% {\n",
              "      border-color: transparent;\n",
              "      border-left-color: var(--fill-color);\n",
              "      border-top-color: var(--fill-color);\n",
              "      border-right-color: var(--fill-color);\n",
              "    }\n",
              "    40% {\n",
              "      border-color: transparent;\n",
              "      border-right-color: var(--fill-color);\n",
              "      border-top-color: var(--fill-color);\n",
              "    }\n",
              "    60% {\n",
              "      border-color: transparent;\n",
              "      border-right-color: var(--fill-color);\n",
              "    }\n",
              "    80% {\n",
              "      border-color: transparent;\n",
              "      border-right-color: var(--fill-color);\n",
              "      border-bottom-color: var(--fill-color);\n",
              "    }\n",
              "    90% {\n",
              "      border-color: transparent;\n",
              "      border-bottom-color: var(--fill-color);\n",
              "    }\n",
              "  }\n",
              "</style>\n",
              "\n",
              "  <script>\n",
              "    async function quickchart(key) {\n",
              "      const quickchartButtonEl =\n",
              "        document.querySelector('#' + key + ' button');\n",
              "      quickchartButtonEl.disabled = true;  // To prevent multiple clicks.\n",
              "      quickchartButtonEl.classList.add('colab-df-spinner');\n",
              "      try {\n",
              "        const charts = await google.colab.kernel.invokeFunction(\n",
              "            'suggestCharts', [key], {});\n",
              "      } catch (error) {\n",
              "        console.error('Error during call to suggestCharts:', error);\n",
              "      }\n",
              "      quickchartButtonEl.classList.remove('colab-df-spinner');\n",
              "      quickchartButtonEl.classList.add('colab-df-quickchart-complete');\n",
              "    }\n",
              "    (() => {\n",
              "      let quickchartButtonEl =\n",
              "        document.querySelector('#df-9f71ac05-bde3-444e-9fb9-1330b636340c button');\n",
              "      quickchartButtonEl.style.display =\n",
              "        google.colab.kernel.accessAllowed ? 'block' : 'none';\n",
              "    })();\n",
              "  </script>\n",
              "</div>\n",
              "    </div>\n",
              "  </div>\n"
            ],
            "application/vnd.google.colaboratory.intrinsic+json": {
              "type": "dataframe",
              "variable_name": "df",
              "summary": "{\n  \"name\": \"df\",\n  \"rows\": 1000,\n  \"fields\": [\n    {\n      \"column\": \"Unnamed: 0\",\n      \"properties\": {\n        \"dtype\": \"number\",\n        \"std\": 288,\n        \"min\": 0,\n        \"max\": 999,\n        \"samples\": [\n          521,\n          737,\n          740\n        ],\n        \"num_unique_values\": 1000,\n        \"semantic_type\": \"\",\n        \"description\": \"\"\n      }\n    },\n    {\n      \"column\": \"Number\",\n      \"properties\": {\n        \"dtype\": \"number\",\n        \"std\": 288,\n        \"min\": 1,\n        \"max\": 1000,\n        \"samples\": [\n          522,\n          738,\n          741\n        ],\n        \"num_unique_values\": 1000,\n        \"semantic_type\": \"\",\n        \"description\": \"\"\n      }\n    },\n    {\n      \"column\": \"Caption\",\n      \"properties\": {\n        \"dtype\": \"string\",\n        \"samples\": [\n          \"Photo by Michael Yamashita @yamashitaphoto | The Tokaido Shinkansen is one of the busiest high-speed train lines in the world, connecting Japan\\u2019s three largest metropolitan areas\\u2014Tokyo-Yokohama, Nagoya, and Osaka\\u2014and departing every few minutes during peak travel times. The Shinkansen introduced the world to modern high-speed rail travel. I photographed the train from this angle after scouting out locations for a book on the world\\u2019s greatest train rides. Pictured here, the Shinkansen zooms past towering Mount Fuji, the highest mountain in Japan, at upwards of 200 mph (320 kph). Along its route, the train snakes through some of Japan\\u2019s most iconic scenery, including tea country and the Pacific coast. Before the Shinkansen, a conventional train took six and a half hours to complete the trip. Now the latest N700 trains can do it in as little as two and a half hours. | Adobe @lightroom gives beginner and professional photographers easy tools to edit their photos, no matter where they are.\",\n          \"Photo by @sofia_jaramillo5 | Filmmaker and photographer Jr Rodriguez casts during the golden hour in the Teton River near Driggs, Idaho, while filming Wading for Change. The movie was recently selected by the National Geographic Short Film Showcase and premieres on National Geographic's YouTube page August 16. In Texas, where Jr grew up, he started fishing without fancy gear or vast landscapes as his backdrop. His love for the outdoors was solidified during family outings and alongside his Latinx community. The film shows how passion for the outdoors can blossom through community, regardless of economic status, location, or skin color. Follow @sofia_jaramillo5 for more conservation images from around the world.\",\n          \"Learn more at the link in bio.\\n\\nSome of the most important\\u2014and most endangered\\u2014tidal flats are found surrounding the Yellow Sea along the shores of China and the western side of the Korean peninsula. For decades, people have transformed them into industrial sites and farms, squeezing them into smaller areas and pushing some species to the brink of extinction. But as science increasingly shows how wetlands like these benefit wildlife and help fight climate change, South Korean scientists and conservationists are gaining momentum in their effort to save and restore what\\u2019s left\\u2014becoming a blueprint for tidal flat conservation and ecotourism.\\n\\nPhotograph by National Geographic Explorer Youngrae Kim @raeraekim\"\n        ],\n        \"num_unique_values\": 1000,\n        \"semantic_type\": \"\",\n        \"description\": \"\"\n      }\n    },\n    {\n      \"column\": \"Like\",\n      \"properties\": {\n        \"dtype\": \"number\",\n        \"std\": 97915,\n        \"min\": 17489,\n        \"max\": 711908,\n        \"samples\": [\n          46845,\n          38539,\n          52690\n        ],\n        \"num_unique_values\": 1000,\n        \"semantic_type\": \"\",\n        \"description\": \"\"\n      }\n    },\n    {\n      \"column\": \"URL\",\n      \"properties\": {\n        \"dtype\": \"string\",\n        \"samples\": [\n          \"https://scontent-hou1-1.cdninstagram.com/v/t51.2885-15/347798311_946164316800402_4085490029209932480_n.jpg?stp=dst-jpg_e35_s1080x1080&_nc_ht=scontent-hou1-1.cdninstagram.com&_nc_cat=106&_nc_ohc=3vID4xSvMVIAX81IKwZ&edm=APU89FABAAAA&ccb=7-5&oh=00_AfBQ5llugZjpVPct_UER7jmsPYFhmtxd3V00GYkFLtml4g&oe=65D65DB9&_nc_sid=bc0c2c\",\n          \"https://scontent-hou1-1.cdninstagram.com/v/t51.2885-15/367434651_629339175671718_4055808625674540585_n.jpg?stp=dst-jpg_e35_s1080x1080&_nc_ht=scontent-hou1-1.cdninstagram.com&_nc_cat=106&_nc_ohc=qLdrKDli3iQAX-6Fjkm&edm=APU89FABAAAA&ccb=7-5&oh=00_AfBby0O6S-j1BHS_JnxpZMemeL97HZzWctthpym2IrYZbQ&oe=65D7FD91&_nc_sid=bc0c2c\",\n          \"https://scontent-hou1-1.cdninstagram.com/v/t51.2885-15/368000810_820432482905261_6339373544469763693_n.jpg?stp=dst-jpg_e35&_nc_ht=scontent-hou1-1.cdninstagram.com&_nc_cat=105&_nc_ohc=gYGreD0lVUwAX-nUxZ5&edm=APU89FABAAAA&ccb=7-5&oh=00_AfCRldIBLU9VpsdG4XRhQhtxK-g_sWp0kza3RtOVjojG9g&oe=65D6E2CF&_nc_sid=bc0c2c\"\n        ],\n        \"num_unique_values\": 1000,\n        \"semantic_type\": \"\",\n        \"description\": \"\"\n      }\n    },\n    {\n      \"column\": \"Label\",\n      \"properties\": {\n        \"dtype\": \"number\",\n        \"std\": NaN,\n        \"min\": NaN,\n        \"max\": NaN,\n        \"samples\": [],\n        \"num_unique_values\": 0,\n        \"semantic_type\": \"\",\n        \"description\": \"\"\n      }\n    }\n  ]\n}"
            }
          },
          "metadata": {},
          "execution_count": 43
        }
      ]
    },
    {
      "cell_type": "code",
      "source": [
        "df['Label'] = df['URL'].apply(detect_labels_url)"
      ],
      "metadata": {
        "id": "B1YRBtjyoqxd"
      },
      "execution_count": null,
      "outputs": []
    },
    {
      "cell_type": "code",
      "source": [
        "df['Label_len']=df['Label'].apply(len)"
      ],
      "metadata": {
        "id": "o55VH2dJruIo"
      },
      "execution_count": null,
      "outputs": []
    },
    {
      "cell_type": "code",
      "source": [
        "df[df['Label_len']==0]"
      ],
      "metadata": {
        "colab": {
          "base_uri": "https://localhost:8080/",
          "height": 53
        },
        "id": "TiBrjnjiy_9Q",
        "outputId": "eefb9d29-6157-40ae-e573-06180211de67"
      },
      "execution_count": null,
      "outputs": [
        {
          "output_type": "execute_result",
          "data": {
            "text/plain": [
              "Empty DataFrame\n",
              "Columns: [Unnamed: 0, Number, Caption, Like, URL, Label, Label_len]\n",
              "Index: []"
            ],
            "text/html": [
              "\n",
              "  <div id=\"df-239ec553-29eb-42c4-9da7-3470e21f56b3\" class=\"colab-df-container\">\n",
              "    <div>\n",
              "<style scoped>\n",
              "    .dataframe tbody tr th:only-of-type {\n",
              "        vertical-align: middle;\n",
              "    }\n",
              "\n",
              "    .dataframe tbody tr th {\n",
              "        vertical-align: top;\n",
              "    }\n",
              "\n",
              "    .dataframe thead th {\n",
              "        text-align: right;\n",
              "    }\n",
              "</style>\n",
              "<table border=\"1\" class=\"dataframe\">\n",
              "  <thead>\n",
              "    <tr style=\"text-align: right;\">\n",
              "      <th></th>\n",
              "      <th>Unnamed: 0</th>\n",
              "      <th>Number</th>\n",
              "      <th>Caption</th>\n",
              "      <th>Like</th>\n",
              "      <th>URL</th>\n",
              "      <th>Label</th>\n",
              "      <th>Label_len</th>\n",
              "    </tr>\n",
              "  </thead>\n",
              "  <tbody>\n",
              "  </tbody>\n",
              "</table>\n",
              "</div>\n",
              "    <div class=\"colab-df-buttons\">\n",
              "\n",
              "  <div class=\"colab-df-container\">\n",
              "    <button class=\"colab-df-convert\" onclick=\"convertToInteractive('df-239ec553-29eb-42c4-9da7-3470e21f56b3')\"\n",
              "            title=\"Convert this dataframe to an interactive table.\"\n",
              "            style=\"display:none;\">\n",
              "\n",
              "  <svg xmlns=\"http://www.w3.org/2000/svg\" height=\"24px\" viewBox=\"0 -960 960 960\">\n",
              "    <path d=\"M120-120v-720h720v720H120Zm60-500h600v-160H180v160Zm220 220h160v-160H400v160Zm0 220h160v-160H400v160ZM180-400h160v-160H180v160Zm440 0h160v-160H620v160ZM180-180h160v-160H180v160Zm440 0h160v-160H620v160Z\"/>\n",
              "  </svg>\n",
              "    </button>\n",
              "\n",
              "  <style>\n",
              "    .colab-df-container {\n",
              "      display:flex;\n",
              "      gap: 12px;\n",
              "    }\n",
              "\n",
              "    .colab-df-convert {\n",
              "      background-color: #E8F0FE;\n",
              "      border: none;\n",
              "      border-radius: 50%;\n",
              "      cursor: pointer;\n",
              "      display: none;\n",
              "      fill: #1967D2;\n",
              "      height: 32px;\n",
              "      padding: 0 0 0 0;\n",
              "      width: 32px;\n",
              "    }\n",
              "\n",
              "    .colab-df-convert:hover {\n",
              "      background-color: #E2EBFA;\n",
              "      box-shadow: 0px 1px 2px rgba(60, 64, 67, 0.3), 0px 1px 3px 1px rgba(60, 64, 67, 0.15);\n",
              "      fill: #174EA6;\n",
              "    }\n",
              "\n",
              "    .colab-df-buttons div {\n",
              "      margin-bottom: 4px;\n",
              "    }\n",
              "\n",
              "    [theme=dark] .colab-df-convert {\n",
              "      background-color: #3B4455;\n",
              "      fill: #D2E3FC;\n",
              "    }\n",
              "\n",
              "    [theme=dark] .colab-df-convert:hover {\n",
              "      background-color: #434B5C;\n",
              "      box-shadow: 0px 1px 3px 1px rgba(0, 0, 0, 0.15);\n",
              "      filter: drop-shadow(0px 1px 2px rgba(0, 0, 0, 0.3));\n",
              "      fill: #FFFFFF;\n",
              "    }\n",
              "  </style>\n",
              "\n",
              "    <script>\n",
              "      const buttonEl =\n",
              "        document.querySelector('#df-239ec553-29eb-42c4-9da7-3470e21f56b3 button.colab-df-convert');\n",
              "      buttonEl.style.display =\n",
              "        google.colab.kernel.accessAllowed ? 'block' : 'none';\n",
              "\n",
              "      async function convertToInteractive(key) {\n",
              "        const element = document.querySelector('#df-239ec553-29eb-42c4-9da7-3470e21f56b3');\n",
              "        const dataTable =\n",
              "          await google.colab.kernel.invokeFunction('convertToInteractive',\n",
              "                                                    [key], {});\n",
              "        if (!dataTable) return;\n",
              "\n",
              "        const docLinkHtml = 'Like what you see? Visit the ' +\n",
              "          '<a target=\"_blank\" href=https://colab.research.google.com/notebooks/data_table.ipynb>data table notebook</a>'\n",
              "          + ' to learn more about interactive tables.';\n",
              "        element.innerHTML = '';\n",
              "        dataTable['output_type'] = 'display_data';\n",
              "        await google.colab.output.renderOutput(dataTable, element);\n",
              "        const docLink = document.createElement('div');\n",
              "        docLink.innerHTML = docLinkHtml;\n",
              "        element.appendChild(docLink);\n",
              "      }\n",
              "    </script>\n",
              "  </div>\n",
              "\n",
              "    </div>\n",
              "  </div>\n"
            ],
            "application/vnd.google.colaboratory.intrinsic+json": {
              "type": "dataframe",
              "repr_error": "cannot convert float NaN to integer"
            }
          },
          "metadata": {},
          "execution_count": 71
        }
      ]
    },
    {
      "cell_type": "code",
      "source": [
        "df['Caption_Pipe_Length']=df['Caption'].str.split('|').apply(len)"
      ],
      "metadata": {
        "id": "9sSt_hAl1_5W"
      },
      "execution_count": null,
      "outputs": []
    },
    {
      "cell_type": "code",
      "source": [
        "df['Caption'].str.split('|').str[0]"
      ],
      "metadata": {
        "colab": {
          "base_uri": "https://localhost:8080/"
        },
        "id": "CCTqxHWUTS2D",
        "outputId": "2682c242-d9aa-4f95-a22a-8b3978260a7e"
      },
      "execution_count": null,
      "outputs": [
        {
          "output_type": "execute_result",
          "data": {
            "text/plain": [
              "0                               Photo by @estherhorvath \n",
              "1                              Photo by @beverlyjoubert \n",
              "2                              Photo by @acacia.johnson \n",
              "3                                 Photo by @jasperdoest \n",
              "4                     Photo by Robbie Shone @shonephoto \n",
              "                             ...                        \n",
              "995    What do orcas, bonobos, and leaf-cutter ants h...\n",
              "996             Photo by Prasenjeet Yadav @prasen.yadav \n",
              "997                               Photo by @joelsartore \n",
              "998    Experiencing the Northern Lights in all their ...\n",
              "999    It’s been 18 years since Pluto’s celestial sta...\n",
              "Name: Caption, Length: 1000, dtype: object"
            ]
          },
          "metadata": {},
          "execution_count": 22
        }
      ]
    },
    {
      "cell_type": "code",
      "source": [
        "df['Binary_Engagement']=df['Like']>df['Like'].median()\n",
        "\n",
        "df['Binary_Engagement']=df['Binary_Engagement'].mask(df['Binary_Engagement']==True,1)\n",
        "\n",
        "df['Binary_Engagement']=df['Binary_Engagement'].mask(df['Binary_Engagement']==False, 0)"
      ],
      "metadata": {
        "id": "_f3FE7ND2gUd"
      },
      "execution_count": null,
      "outputs": []
    },
    {
      "cell_type": "code",
      "source": [
        "df.head()"
      ],
      "metadata": {
        "colab": {
          "base_uri": "https://localhost:8080/",
          "height": 306
        },
        "id": "IyzmmTMm2bmk",
        "outputId": "95e9c103-64ed-4e4b-eaa2-86b64a035db2"
      },
      "execution_count": null,
      "outputs": [
        {
          "output_type": "execute_result",
          "data": {
            "text/plain": [
              "   Unnamed: 0.1  Unnamed: 0  Number  \\\n",
              "0             0           0       1   \n",
              "1             1           1       2   \n",
              "2             2           2       3   \n",
              "3             3           3       4   \n",
              "4             4           4       5   \n",
              "\n",
              "                                             Caption    Like  \\\n",
              "0  Photo by @estherhorvath | Moss-covered trees a...   97727   \n",
              "1  Photo by @beverlyjoubert | My, what teeth you ...  195558   \n",
              "2  Photo by @acacia.johnson | The first rays of a...  121855   \n",
              "3  Photo by @jasperdoest | A white stork searches...   89130   \n",
              "4  Photo by Robbie Shone @shonephoto | A cave sur...   55653   \n",
              "\n",
              "                                                 URL  \\\n",
              "0  https://scontent-hou1-1.cdninstagram.com/v/t51...   \n",
              "1  https://scontent-hou1-1.cdninstagram.com/v/t51...   \n",
              "2  https://scontent-hou1-1.cdninstagram.com/v/t51...   \n",
              "3  https://scontent-hou1-1.cdninstagram.com/v/t51...   \n",
              "4  https://scontent-hou1-1.cdninstagram.com/v/t51...   \n",
              "\n",
              "                                               Label  Label_len  \\\n",
              "0  Plant, Natural landscape, Terrestrial plant, W...         97   \n",
              "1  Plant, Plant community, Felidae, Carnivore, Ma...         93   \n",
              "2  Water, Nature, Slope, Natural landscape, Mount...        117   \n",
              "3  Bird, Sky, Vertebrate, Nature, Extinction, Nec...         80   \n",
              "4  Flash photography, Outdoor recreation, Recreat...        131   \n",
              "\n",
              "   Binary_Engagement  \n",
              "0                  1  \n",
              "1                  1  \n",
              "2                  1  \n",
              "3                  0  \n",
              "4                  0  "
            ],
            "text/html": [
              "\n",
              "  <div id=\"df-d32e80b1-1ae3-43ff-a61f-a3914e681e51\" class=\"colab-df-container\">\n",
              "    <div>\n",
              "<style scoped>\n",
              "    .dataframe tbody tr th:only-of-type {\n",
              "        vertical-align: middle;\n",
              "    }\n",
              "\n",
              "    .dataframe tbody tr th {\n",
              "        vertical-align: top;\n",
              "    }\n",
              "\n",
              "    .dataframe thead th {\n",
              "        text-align: right;\n",
              "    }\n",
              "</style>\n",
              "<table border=\"1\" class=\"dataframe\">\n",
              "  <thead>\n",
              "    <tr style=\"text-align: right;\">\n",
              "      <th></th>\n",
              "      <th>Unnamed: 0.1</th>\n",
              "      <th>Unnamed: 0</th>\n",
              "      <th>Number</th>\n",
              "      <th>Caption</th>\n",
              "      <th>Like</th>\n",
              "      <th>URL</th>\n",
              "      <th>Label</th>\n",
              "      <th>Label_len</th>\n",
              "      <th>Binary_Engagement</th>\n",
              "    </tr>\n",
              "  </thead>\n",
              "  <tbody>\n",
              "    <tr>\n",
              "      <th>0</th>\n",
              "      <td>0</td>\n",
              "      <td>0</td>\n",
              "      <td>1</td>\n",
              "      <td>Photo by @estherhorvath | Moss-covered trees a...</td>\n",
              "      <td>97727</td>\n",
              "      <td>https://scontent-hou1-1.cdninstagram.com/v/t51...</td>\n",
              "      <td>Plant, Natural landscape, Terrestrial plant, W...</td>\n",
              "      <td>97</td>\n",
              "      <td>1</td>\n",
              "    </tr>\n",
              "    <tr>\n",
              "      <th>1</th>\n",
              "      <td>1</td>\n",
              "      <td>1</td>\n",
              "      <td>2</td>\n",
              "      <td>Photo by @beverlyjoubert | My, what teeth you ...</td>\n",
              "      <td>195558</td>\n",
              "      <td>https://scontent-hou1-1.cdninstagram.com/v/t51...</td>\n",
              "      <td>Plant, Plant community, Felidae, Carnivore, Ma...</td>\n",
              "      <td>93</td>\n",
              "      <td>1</td>\n",
              "    </tr>\n",
              "    <tr>\n",
              "      <th>2</th>\n",
              "      <td>2</td>\n",
              "      <td>2</td>\n",
              "      <td>3</td>\n",
              "      <td>Photo by @acacia.johnson | The first rays of a...</td>\n",
              "      <td>121855</td>\n",
              "      <td>https://scontent-hou1-1.cdninstagram.com/v/t51...</td>\n",
              "      <td>Water, Nature, Slope, Natural landscape, Mount...</td>\n",
              "      <td>117</td>\n",
              "      <td>1</td>\n",
              "    </tr>\n",
              "    <tr>\n",
              "      <th>3</th>\n",
              "      <td>3</td>\n",
              "      <td>3</td>\n",
              "      <td>4</td>\n",
              "      <td>Photo by @jasperdoest | A white stork searches...</td>\n",
              "      <td>89130</td>\n",
              "      <td>https://scontent-hou1-1.cdninstagram.com/v/t51...</td>\n",
              "      <td>Bird, Sky, Vertebrate, Nature, Extinction, Nec...</td>\n",
              "      <td>80</td>\n",
              "      <td>0</td>\n",
              "    </tr>\n",
              "    <tr>\n",
              "      <th>4</th>\n",
              "      <td>4</td>\n",
              "      <td>4</td>\n",
              "      <td>5</td>\n",
              "      <td>Photo by Robbie Shone @shonephoto | A cave sur...</td>\n",
              "      <td>55653</td>\n",
              "      <td>https://scontent-hou1-1.cdninstagram.com/v/t51...</td>\n",
              "      <td>Flash photography, Outdoor recreation, Recreat...</td>\n",
              "      <td>131</td>\n",
              "      <td>0</td>\n",
              "    </tr>\n",
              "  </tbody>\n",
              "</table>\n",
              "</div>\n",
              "    <div class=\"colab-df-buttons\">\n",
              "\n",
              "  <div class=\"colab-df-container\">\n",
              "    <button class=\"colab-df-convert\" onclick=\"convertToInteractive('df-d32e80b1-1ae3-43ff-a61f-a3914e681e51')\"\n",
              "            title=\"Convert this dataframe to an interactive table.\"\n",
              "            style=\"display:none;\">\n",
              "\n",
              "  <svg xmlns=\"http://www.w3.org/2000/svg\" height=\"24px\" viewBox=\"0 -960 960 960\">\n",
              "    <path d=\"M120-120v-720h720v720H120Zm60-500h600v-160H180v160Zm220 220h160v-160H400v160Zm0 220h160v-160H400v160ZM180-400h160v-160H180v160Zm440 0h160v-160H620v160ZM180-180h160v-160H180v160Zm440 0h160v-160H620v160Z\"/>\n",
              "  </svg>\n",
              "    </button>\n",
              "\n",
              "  <style>\n",
              "    .colab-df-container {\n",
              "      display:flex;\n",
              "      gap: 12px;\n",
              "    }\n",
              "\n",
              "    .colab-df-convert {\n",
              "      background-color: #E8F0FE;\n",
              "      border: none;\n",
              "      border-radius: 50%;\n",
              "      cursor: pointer;\n",
              "      display: none;\n",
              "      fill: #1967D2;\n",
              "      height: 32px;\n",
              "      padding: 0 0 0 0;\n",
              "      width: 32px;\n",
              "    }\n",
              "\n",
              "    .colab-df-convert:hover {\n",
              "      background-color: #E2EBFA;\n",
              "      box-shadow: 0px 1px 2px rgba(60, 64, 67, 0.3), 0px 1px 3px 1px rgba(60, 64, 67, 0.15);\n",
              "      fill: #174EA6;\n",
              "    }\n",
              "\n",
              "    .colab-df-buttons div {\n",
              "      margin-bottom: 4px;\n",
              "    }\n",
              "\n",
              "    [theme=dark] .colab-df-convert {\n",
              "      background-color: #3B4455;\n",
              "      fill: #D2E3FC;\n",
              "    }\n",
              "\n",
              "    [theme=dark] .colab-df-convert:hover {\n",
              "      background-color: #434B5C;\n",
              "      box-shadow: 0px 1px 3px 1px rgba(0, 0, 0, 0.15);\n",
              "      filter: drop-shadow(0px 1px 2px rgba(0, 0, 0, 0.3));\n",
              "      fill: #FFFFFF;\n",
              "    }\n",
              "  </style>\n",
              "\n",
              "    <script>\n",
              "      const buttonEl =\n",
              "        document.querySelector('#df-d32e80b1-1ae3-43ff-a61f-a3914e681e51 button.colab-df-convert');\n",
              "      buttonEl.style.display =\n",
              "        google.colab.kernel.accessAllowed ? 'block' : 'none';\n",
              "\n",
              "      async function convertToInteractive(key) {\n",
              "        const element = document.querySelector('#df-d32e80b1-1ae3-43ff-a61f-a3914e681e51');\n",
              "        const dataTable =\n",
              "          await google.colab.kernel.invokeFunction('convertToInteractive',\n",
              "                                                    [key], {});\n",
              "        if (!dataTable) return;\n",
              "\n",
              "        const docLinkHtml = 'Like what you see? Visit the ' +\n",
              "          '<a target=\"_blank\" href=https://colab.research.google.com/notebooks/data_table.ipynb>data table notebook</a>'\n",
              "          + ' to learn more about interactive tables.';\n",
              "        element.innerHTML = '';\n",
              "        dataTable['output_type'] = 'display_data';\n",
              "        await google.colab.output.renderOutput(dataTable, element);\n",
              "        const docLink = document.createElement('div');\n",
              "        docLink.innerHTML = docLinkHtml;\n",
              "        element.appendChild(docLink);\n",
              "      }\n",
              "    </script>\n",
              "  </div>\n",
              "\n",
              "\n",
              "<div id=\"df-2e83ebc1-5f70-4d32-a298-a29bdbe60368\">\n",
              "  <button class=\"colab-df-quickchart\" onclick=\"quickchart('df-2e83ebc1-5f70-4d32-a298-a29bdbe60368')\"\n",
              "            title=\"Suggest charts\"\n",
              "            style=\"display:none;\">\n",
              "\n",
              "<svg xmlns=\"http://www.w3.org/2000/svg\" height=\"24px\"viewBox=\"0 0 24 24\"\n",
              "     width=\"24px\">\n",
              "    <g>\n",
              "        <path d=\"M19 3H5c-1.1 0-2 .9-2 2v14c0 1.1.9 2 2 2h14c1.1 0 2-.9 2-2V5c0-1.1-.9-2-2-2zM9 17H7v-7h2v7zm4 0h-2V7h2v10zm4 0h-2v-4h2v4z\"/>\n",
              "    </g>\n",
              "</svg>\n",
              "  </button>\n",
              "\n",
              "<style>\n",
              "  .colab-df-quickchart {\n",
              "      --bg-color: #E8F0FE;\n",
              "      --fill-color: #1967D2;\n",
              "      --hover-bg-color: #E2EBFA;\n",
              "      --hover-fill-color: #174EA6;\n",
              "      --disabled-fill-color: #AAA;\n",
              "      --disabled-bg-color: #DDD;\n",
              "  }\n",
              "\n",
              "  [theme=dark] .colab-df-quickchart {\n",
              "      --bg-color: #3B4455;\n",
              "      --fill-color: #D2E3FC;\n",
              "      --hover-bg-color: #434B5C;\n",
              "      --hover-fill-color: #FFFFFF;\n",
              "      --disabled-bg-color: #3B4455;\n",
              "      --disabled-fill-color: #666;\n",
              "  }\n",
              "\n",
              "  .colab-df-quickchart {\n",
              "    background-color: var(--bg-color);\n",
              "    border: none;\n",
              "    border-radius: 50%;\n",
              "    cursor: pointer;\n",
              "    display: none;\n",
              "    fill: var(--fill-color);\n",
              "    height: 32px;\n",
              "    padding: 0;\n",
              "    width: 32px;\n",
              "  }\n",
              "\n",
              "  .colab-df-quickchart:hover {\n",
              "    background-color: var(--hover-bg-color);\n",
              "    box-shadow: 0 1px 2px rgba(60, 64, 67, 0.3), 0 1px 3px 1px rgba(60, 64, 67, 0.15);\n",
              "    fill: var(--button-hover-fill-color);\n",
              "  }\n",
              "\n",
              "  .colab-df-quickchart-complete:disabled,\n",
              "  .colab-df-quickchart-complete:disabled:hover {\n",
              "    background-color: var(--disabled-bg-color);\n",
              "    fill: var(--disabled-fill-color);\n",
              "    box-shadow: none;\n",
              "  }\n",
              "\n",
              "  .colab-df-spinner {\n",
              "    border: 2px solid var(--fill-color);\n",
              "    border-color: transparent;\n",
              "    border-bottom-color: var(--fill-color);\n",
              "    animation:\n",
              "      spin 1s steps(1) infinite;\n",
              "  }\n",
              "\n",
              "  @keyframes spin {\n",
              "    0% {\n",
              "      border-color: transparent;\n",
              "      border-bottom-color: var(--fill-color);\n",
              "      border-left-color: var(--fill-color);\n",
              "    }\n",
              "    20% {\n",
              "      border-color: transparent;\n",
              "      border-left-color: var(--fill-color);\n",
              "      border-top-color: var(--fill-color);\n",
              "    }\n",
              "    30% {\n",
              "      border-color: transparent;\n",
              "      border-left-color: var(--fill-color);\n",
              "      border-top-color: var(--fill-color);\n",
              "      border-right-color: var(--fill-color);\n",
              "    }\n",
              "    40% {\n",
              "      border-color: transparent;\n",
              "      border-right-color: var(--fill-color);\n",
              "      border-top-color: var(--fill-color);\n",
              "    }\n",
              "    60% {\n",
              "      border-color: transparent;\n",
              "      border-right-color: var(--fill-color);\n",
              "    }\n",
              "    80% {\n",
              "      border-color: transparent;\n",
              "      border-right-color: var(--fill-color);\n",
              "      border-bottom-color: var(--fill-color);\n",
              "    }\n",
              "    90% {\n",
              "      border-color: transparent;\n",
              "      border-bottom-color: var(--fill-color);\n",
              "    }\n",
              "  }\n",
              "</style>\n",
              "\n",
              "  <script>\n",
              "    async function quickchart(key) {\n",
              "      const quickchartButtonEl =\n",
              "        document.querySelector('#' + key + ' button');\n",
              "      quickchartButtonEl.disabled = true;  // To prevent multiple clicks.\n",
              "      quickchartButtonEl.classList.add('colab-df-spinner');\n",
              "      try {\n",
              "        const charts = await google.colab.kernel.invokeFunction(\n",
              "            'suggestCharts', [key], {});\n",
              "      } catch (error) {\n",
              "        console.error('Error during call to suggestCharts:', error);\n",
              "      }\n",
              "      quickchartButtonEl.classList.remove('colab-df-spinner');\n",
              "      quickchartButtonEl.classList.add('colab-df-quickchart-complete');\n",
              "    }\n",
              "    (() => {\n",
              "      let quickchartButtonEl =\n",
              "        document.querySelector('#df-2e83ebc1-5f70-4d32-a298-a29bdbe60368 button');\n",
              "      quickchartButtonEl.style.display =\n",
              "        google.colab.kernel.accessAllowed ? 'block' : 'none';\n",
              "    })();\n",
              "  </script>\n",
              "</div>\n",
              "    </div>\n",
              "  </div>\n"
            ],
            "application/vnd.google.colaboratory.intrinsic+json": {
              "type": "dataframe",
              "variable_name": "df",
              "summary": "{\n  \"name\": \"df\",\n  \"rows\": 1000,\n  \"fields\": [\n    {\n      \"column\": \"Unnamed: 0.1\",\n      \"properties\": {\n        \"dtype\": \"number\",\n        \"std\": 288,\n        \"min\": 0,\n        \"max\": 999,\n        \"samples\": [\n          521,\n          737,\n          740\n        ],\n        \"num_unique_values\": 1000,\n        \"semantic_type\": \"\",\n        \"description\": \"\"\n      }\n    },\n    {\n      \"column\": \"Unnamed: 0\",\n      \"properties\": {\n        \"dtype\": \"number\",\n        \"std\": 288,\n        \"min\": 0,\n        \"max\": 999,\n        \"samples\": [\n          521,\n          737,\n          740\n        ],\n        \"num_unique_values\": 1000,\n        \"semantic_type\": \"\",\n        \"description\": \"\"\n      }\n    },\n    {\n      \"column\": \"Number\",\n      \"properties\": {\n        \"dtype\": \"number\",\n        \"std\": 288,\n        \"min\": 1,\n        \"max\": 1000,\n        \"samples\": [\n          522,\n          738,\n          741\n        ],\n        \"num_unique_values\": 1000,\n        \"semantic_type\": \"\",\n        \"description\": \"\"\n      }\n    },\n    {\n      \"column\": \"Caption\",\n      \"properties\": {\n        \"dtype\": \"string\",\n        \"samples\": [\n          \"Photo by Michael Yamashita @yamashitaphoto | The Tokaido Shinkansen is one of the busiest high-speed train lines in the world, connecting Japan\\u2019s three largest metropolitan areas\\u2014Tokyo-Yokohama, Nagoya, and Osaka\\u2014and departing every few minutes during peak travel times. The Shinkansen introduced the world to modern high-speed rail travel. I photographed the train from this angle after scouting out locations for a book on the world\\u2019s greatest train rides. Pictured here, the Shinkansen zooms past towering Mount Fuji, the highest mountain in Japan, at upwards of 200 mph (320 kph). Along its route, the train snakes through some of Japan\\u2019s most iconic scenery, including tea country and the Pacific coast. Before the Shinkansen, a conventional train took six and a half hours to complete the trip. Now the latest N700 trains can do it in as little as two and a half hours. | Adobe @lightroom gives beginner and professional photographers easy tools to edit their photos, no matter where they are.\",\n          \"Photo by @sofia_jaramillo5 | Filmmaker and photographer Jr Rodriguez casts during the golden hour in the Teton River near Driggs, Idaho, while filming Wading for Change. The movie was recently selected by the National Geographic Short Film Showcase and premieres on National Geographic's YouTube page August 16. In Texas, where Jr grew up, he started fishing without fancy gear or vast landscapes as his backdrop. His love for the outdoors was solidified during family outings and alongside his Latinx community. The film shows how passion for the outdoors can blossom through community, regardless of economic status, location, or skin color. Follow @sofia_jaramillo5 for more conservation images from around the world.\",\n          \"Learn more at the link in bio.\\n\\nSome of the most important\\u2014and most endangered\\u2014tidal flats are found surrounding the Yellow Sea along the shores of China and the western side of the Korean peninsula. For decades, people have transformed them into industrial sites and farms, squeezing them into smaller areas and pushing some species to the brink of extinction. But as science increasingly shows how wetlands like these benefit wildlife and help fight climate change, South Korean scientists and conservationists are gaining momentum in their effort to save and restore what\\u2019s left\\u2014becoming a blueprint for tidal flat conservation and ecotourism.\\n\\nPhotograph by National Geographic Explorer Youngrae Kim @raeraekim\"\n        ],\n        \"num_unique_values\": 1000,\n        \"semantic_type\": \"\",\n        \"description\": \"\"\n      }\n    },\n    {\n      \"column\": \"Like\",\n      \"properties\": {\n        \"dtype\": \"number\",\n        \"std\": 97915,\n        \"min\": 17489,\n        \"max\": 711908,\n        \"samples\": [\n          46845,\n          38539,\n          52690\n        ],\n        \"num_unique_values\": 1000,\n        \"semantic_type\": \"\",\n        \"description\": \"\"\n      }\n    },\n    {\n      \"column\": \"URL\",\n      \"properties\": {\n        \"dtype\": \"string\",\n        \"samples\": [\n          \"https://scontent-hou1-1.cdninstagram.com/v/t51.2885-15/347798311_946164316800402_4085490029209932480_n.jpg?stp=dst-jpg_e35_s1080x1080&_nc_ht=scontent-hou1-1.cdninstagram.com&_nc_cat=106&_nc_ohc=3vID4xSvMVIAX81IKwZ&edm=APU89FABAAAA&ccb=7-5&oh=00_AfBQ5llugZjpVPct_UER7jmsPYFhmtxd3V00GYkFLtml4g&oe=65D65DB9&_nc_sid=bc0c2c\",\n          \"https://scontent-hou1-1.cdninstagram.com/v/t51.2885-15/367434651_629339175671718_4055808625674540585_n.jpg?stp=dst-jpg_e35_s1080x1080&_nc_ht=scontent-hou1-1.cdninstagram.com&_nc_cat=106&_nc_ohc=qLdrKDli3iQAX-6Fjkm&edm=APU89FABAAAA&ccb=7-5&oh=00_AfBby0O6S-j1BHS_JnxpZMemeL97HZzWctthpym2IrYZbQ&oe=65D7FD91&_nc_sid=bc0c2c\",\n          \"https://scontent-hou1-1.cdninstagram.com/v/t51.2885-15/368000810_820432482905261_6339373544469763693_n.jpg?stp=dst-jpg_e35&_nc_ht=scontent-hou1-1.cdninstagram.com&_nc_cat=105&_nc_ohc=gYGreD0lVUwAX-nUxZ5&edm=APU89FABAAAA&ccb=7-5&oh=00_AfCRldIBLU9VpsdG4XRhQhtxK-g_sWp0kza3RtOVjojG9g&oe=65D6E2CF&_nc_sid=bc0c2c\"\n        ],\n        \"num_unique_values\": 1000,\n        \"semantic_type\": \"\",\n        \"description\": \"\"\n      }\n    },\n    {\n      \"column\": \"Label\",\n      \"properties\": {\n        \"dtype\": \"string\",\n        \"samples\": [\n          \"Sky, Water, Cloud, Infrastructure, Mammal, Body of water, Girder bridge, Bridge, Truss bridge, Waterway\",\n          \"Water, Sky, Cloud, Fisherman, Lake, Angling, Mountain, Fishing rod, Outdoor recreation, Hat\",\n          \"Water, Water resources, Ecoregion, Nature, Natural landscape, Fluvial landforms of streams, Organism, Vegetation, Watercourse, Lake\"\n        ],\n        \"num_unique_values\": 1000,\n        \"semantic_type\": \"\",\n        \"description\": \"\"\n      }\n    },\n    {\n      \"column\": \"Label_len\",\n      \"properties\": {\n        \"dtype\": \"number\",\n        \"std\": 15,\n        \"min\": 48,\n        \"max\": 149,\n        \"samples\": [\n          73,\n          97,\n          130\n        ],\n        \"num_unique_values\": 85,\n        \"semantic_type\": \"\",\n        \"description\": \"\"\n      }\n    },\n    {\n      \"column\": \"Binary_Engagement\",\n      \"properties\": {\n        \"dtype\": \"number\",\n        \"std\": 0,\n        \"min\": 0,\n        \"max\": 1,\n        \"samples\": [\n          0,\n          1\n        ],\n        \"num_unique_values\": 2,\n        \"semantic_type\": \"\",\n        \"description\": \"\"\n      }\n    }\n  ]\n}"
            }
          },
          "metadata": {},
          "execution_count": 3
        }
      ]
    },
    {
      "cell_type": "code",
      "source": [
        "from sklearn.feature_extraction.text import TfidfVectorizer\n",
        "\n",
        "#prepare text_documents\n",
        "text_documents = []\n",
        "for label in df['Label']:\n",
        "    concatenated_text = \" \".join(label.split(', '))\n",
        "    text_documents.append(concatenated_text)\n",
        "\n",
        "#create TF-IDF matrix\n",
        "tfidf_vectorizer = TfidfVectorizer()\n",
        "tfidf_matrix = tfidf_vectorizer.fit_transform(text_documents).toarray()\n",
        "terms = tfidf_vectorizer.get_feature_names_out()\n",
        "\n",
        "df_label_tfidf = pd.DataFrame(tfidf_matrix, columns=terms)\n",
        "\n",
        "# Display the DataFrame\n",
        "print(df_label_tfidf)"
      ],
      "metadata": {
        "colab": {
          "base_uri": "https://localhost:8080/"
        },
        "id": "WlFgVIsV3MNG",
        "outputId": "b4d46988-8262-44b4-f398-41955125eba0"
      },
      "execution_count": null,
      "outputs": [
        {
          "output_type": "stream",
          "name": "stdout",
          "text": [
            "     abdomen  accessory  accipitridae  accipitriformes  adaptation  address  \\\n",
            "0        0.0        0.0           0.0              0.0    0.000000      0.0   \n",
            "1        0.0        0.0           0.0              0.0    0.000000      0.0   \n",
            "2        0.0        0.0           0.0              0.0    0.000000      0.0   \n",
            "3        0.0        0.0           0.0              0.0    0.271832      0.0   \n",
            "4        0.0        0.0           0.0              0.0    0.000000      0.0   \n",
            "..       ...        ...           ...              ...         ...      ...   \n",
            "995      0.0        0.0           0.0              0.0    0.000000      0.0   \n",
            "996      0.0        0.0           0.0              0.0    0.000000      0.0   \n",
            "997      0.0        0.0           0.0              0.0    0.000000      0.0   \n",
            "998      0.0        0.0           0.0              0.0    0.000000      0.0   \n",
            "999      0.0        0.0           0.0              0.0    0.000000      0.0   \n",
            "\n",
            "     adventure  advertising  adã  aeolian  ...     world  wrap  wrinkle  \\\n",
            "0     0.000000          0.0  0.0      0.0  ...  0.000000   0.0      0.0   \n",
            "1     0.000000          0.0  0.0      0.0  ...  0.000000   0.0      0.0   \n",
            "2     0.000000          0.0  0.0      0.0  ...  0.000000   0.0      0.0   \n",
            "3     0.000000          0.0  0.0      0.0  ...  0.000000   0.0      0.0   \n",
            "4     0.338078          0.0  0.0      0.0  ...  0.000000   0.0      0.0   \n",
            "..         ...          ...  ...      ...  ...       ...   ...      ...   \n",
            "995   0.000000          0.0  0.0      0.0  ...  0.000000   0.0      0.0   \n",
            "996   0.000000          0.0  0.0      0.0  ...  0.000000   0.0      0.0   \n",
            "997   0.000000          0.0  0.0      0.0  ...  0.000000   0.0      0.0   \n",
            "998   0.000000          0.0  0.0      0.0  ...  0.278593   0.0      0.0   \n",
            "999   0.000000          0.0  0.0      0.0  ...  0.209916   0.0      0.0   \n",
            "\n",
            "     wrist  writing  yawn  yellow  zebra  zone  zoo  \n",
            "0      0.0      0.0   0.0     0.0    0.0   0.0  0.0  \n",
            "1      0.0      0.0   0.0     0.0    0.0   0.0  0.0  \n",
            "2      0.0      0.0   0.0     0.0    0.0   0.0  0.0  \n",
            "3      0.0      0.0   0.0     0.0    0.0   0.0  0.0  \n",
            "4      0.0      0.0   0.0     0.0    0.0   0.0  0.0  \n",
            "..     ...      ...   ...     ...    ...   ...  ...  \n",
            "995    0.0      0.0   0.0     0.0    0.0   0.0  0.0  \n",
            "996    0.0      0.0   0.0     0.0    0.0   0.0  0.0  \n",
            "997    0.0      0.0   0.0     0.0    0.0   0.0  0.0  \n",
            "998    0.0      0.0   0.0     0.0    0.0   0.0  0.0  \n",
            "999    0.0      0.0   0.0     0.0    0.0   0.0  0.0  \n",
            "\n",
            "[1000 rows x 1091 columns]\n"
          ]
        }
      ]
    },
    {
      "cell_type": "code",
      "source": [
        "#feature selection\n",
        "from sklearn.feature_selection import SelectKBest, chi2\n",
        "\n",
        "# Select the top 100 features based on chi-squared score\n",
        "df_label_tfidf.fillna(0, inplace=True)\n",
        "k = 100\n",
        "tfidf_matrix_selected = SelectKBest(chi2, k=k).fit_transform(df_label_tfidf , df['Binary_Engagement'].to_list())\n",
        "print(tfidf_matrix_selected.shape)"
      ],
      "metadata": {
        "colab": {
          "base_uri": "https://localhost:8080/"
        },
        "id": "sr4ekaPE4WIb",
        "outputId": "2b2d72bf-f0bf-4eb9-9d87-fca84dd4d673"
      },
      "execution_count": null,
      "outputs": [
        {
          "output_type": "stream",
          "name": "stdout",
          "text": [
            "(1000, 100)\n"
          ]
        }
      ]
    },
    {
      "cell_type": "code",
      "source": [
        "# Importance of each word\n",
        "fit = SelectKBest(score_func=chi2, k=k).fit(df_label_tfidf , df['Binary_Engagement'].to_list())\n",
        "\n",
        "df_column_score = pd.DataFrame({'Column_name': df_label_tfidf.columns, 'P-value': fit.pvalues_})\n",
        "# P-value of each word\n",
        "print(df_column_score.sort_values(by='P-value',ascending = True).head(100))"
      ],
      "metadata": {
        "colab": {
          "base_uri": "https://localhost:8080/"
        },
        "id": "U03Hbpe64cSH",
        "outputId": "82fbcc6a-8212-4d74-d357-1f0d42457b95"
      },
      "execution_count": null,
      "outputs": [
        {
          "output_type": "stream",
          "name": "stdout",
          "text": [
            "    Column_name   P-value\n",
            "343     felidae  0.004779\n",
            "171   carnivore  0.007030\n",
            "178        cats  0.013982\n",
            "458         hat  0.015285\n",
            "685    organism  0.018299\n",
            "..          ...       ...\n",
            "497          in  0.244451\n",
            "688       otter  0.245318\n",
            "516       jeans  0.245450\n",
            "116      blazer  0.245512\n",
            "94        beach  0.245653\n",
            "\n",
            "[100 rows x 2 columns]\n"
          ]
        }
      ]
    },
    {
      "cell_type": "code",
      "source": [
        "#Logistic Regrssion\n",
        "from sklearn.model_selection import train_test_split\n",
        "from sklearn.linear_model import LogisticRegression\n",
        "from sklearn.metrics import confusion_matrix, accuracy_score\n",
        "\n",
        "X_train, X_test, y_train, y_test = train_test_split(tfidf_matrix_selected, df['Binary_Engagement'].to_list(), test_size=0.2, random_state=42)\n",
        "\n",
        "model = LogisticRegression()\n",
        "model.fit(X_train, y_train)\n",
        "y_pred = model.predict(X_test)\n",
        "\n",
        "# Confusion matrix\n",
        "conf_matrix = confusion_matrix(y_test, y_pred)\n",
        "print(\"Confusion Matrix:\")\n",
        "print(conf_matrix)\n",
        "\n",
        "# Accuracy\n",
        "accuracy = accuracy_score(y_test, y_pred)\n",
        "print(\"\\nAccuracy:\", accuracy)"
      ],
      "metadata": {
        "colab": {
          "base_uri": "https://localhost:8080/"
        },
        "id": "T-Zqq16Y4hMI",
        "outputId": "07634fea-67da-43d6-aa15-ec4cba1bd86e"
      },
      "execution_count": null,
      "outputs": [
        {
          "output_type": "stream",
          "name": "stdout",
          "text": [
            "Confusion Matrix:\n",
            "[[80 27]\n",
            " [37 56]]\n",
            "\n",
            "Accuracy: 0.68\n"
          ]
        }
      ]
    },
    {
      "cell_type": "code",
      "source": [
        "import nltk\n",
        "nltk.download('punkt')"
      ],
      "metadata": {
        "colab": {
          "base_uri": "https://localhost:8080/"
        },
        "id": "Jdq5qxFlVKAt",
        "outputId": "30bb1f16-73b0-4776-a8c3-56e3e7ace26b"
      },
      "execution_count": null,
      "outputs": [
        {
          "output_type": "stream",
          "name": "stderr",
          "text": [
            "[nltk_data] Downloading package punkt to /root/nltk_data...\n",
            "[nltk_data]   Unzipping tokenizers/punkt.zip.\n"
          ]
        },
        {
          "output_type": "execute_result",
          "data": {
            "text/plain": [
              "True"
            ]
          },
          "metadata": {},
          "execution_count": 4
        }
      ]
    },
    {
      "cell_type": "code",
      "source": [
        "from nltk.corpus import stopwords\n",
        "\n",
        "nltk.download('stopwords')\n",
        "stop_words = set(stopwords.words('english'))\n",
        "\n",
        "def clean_text(text):\n",
        "    # Tokenization and lowercase conversion\n",
        "    tokens = nltk.word_tokenize(text.lower())\n",
        "    # Remove punctuation and stopwords\n",
        "    cleaned_tokens = [token for token in tokens if token not in stop_words]\n",
        "    # Rejoin tokens into a clean text string\n",
        "    cleaned_text = \" \".join(cleaned_tokens)\n",
        "\n",
        "    return cleaned_text\n",
        "\n",
        "\n",
        "#prepare text_documents\n",
        "\n",
        "text_documents = [clean_text(document) for document in df['Caption']]\n",
        "\n",
        "#create TF-IDF matrix\n",
        "#print(text_documents)\n",
        "\n",
        "tfidf_vectorizer = TfidfVectorizer()\n",
        "tfidf_matrix = tfidf_vectorizer.fit_transform(text_documents)\n",
        "tfidf_array = tfidf_matrix.toarray()\n",
        "terms = tfidf_vectorizer.get_feature_names_out()\n",
        "\n",
        "# Create a DataFrame\n",
        "df_caption_tfidf = pd.DataFrame(tfidf_array, columns=terms)\n",
        "# Display the DataFrame\n",
        "#df_caption_tfidf['Y'] = df['engagement']\n",
        "#df_caption_tfidf.to_csv(\"caption.csv\")\n",
        "print(df_caption_tfidf)\n",
        "\n"
      ],
      "metadata": {
        "colab": {
          "base_uri": "https://localhost:8080/"
        },
        "id": "hIK46gyESOOr",
        "outputId": "866e5800-a8cb-402d-f02d-d19d604d1fda"
      },
      "execution_count": null,
      "outputs": [
        {
          "output_type": "stream",
          "name": "stderr",
          "text": [
            "[nltk_data] Downloading package stopwords to /root/nltk_data...\n",
            "[nltk_data]   Package stopwords is already up-to-date!\n"
          ]
        },
        {
          "output_type": "stream",
          "name": "stdout",
          "text": [
            "     000  000th   03   10  100  102  108  109  10m   11  ...  zoroaster  \\\n",
            "0    0.0    0.0  0.0  0.0  0.0  0.0  0.0  0.0  0.0  0.0  ...        0.0   \n",
            "1    0.0    0.0  0.0  0.0  0.0  0.0  0.0  0.0  0.0  0.0  ...        0.0   \n",
            "2    0.0    0.0  0.0  0.0  0.0  0.0  0.0  0.0  0.0  0.0  ...        0.0   \n",
            "3    0.0    0.0  0.0  0.0  0.0  0.0  0.0  0.0  0.0  0.0  ...        0.0   \n",
            "4    0.0    0.0  0.0  0.0  0.0  0.0  0.0  0.0  0.0  0.0  ...        0.0   \n",
            "..   ...    ...  ...  ...  ...  ...  ...  ...  ...  ...  ...        ...   \n",
            "995  0.0    0.0  0.0  0.0  0.0  0.0  0.0  0.0  0.0  0.0  ...        0.0   \n",
            "996  0.0    0.0  0.0  0.0  0.0  0.0  0.0  0.0  0.0  0.0  ...        0.0   \n",
            "997  0.0    0.0  0.0  0.0  0.0  0.0  0.0  0.0  0.0  0.0  ...        0.0   \n",
            "998  0.0    0.0  0.0  0.0  0.0  0.0  0.0  0.0  0.0  0.0  ...        0.0   \n",
            "999  0.0    0.0  0.0  0.0  0.0  0.0  0.0  0.0  0.0  0.0  ...        0.0   \n",
            "\n",
            "     zumbahua  zzz  ângela  åkernes  ålesund  élégantes  ívar  żabice  الاردن  \n",
            "0         0.0  0.0     0.0      0.0      0.0        0.0   0.0     0.0     0.0  \n",
            "1         0.0  0.0     0.0      0.0      0.0        0.0   0.0     0.0     0.0  \n",
            "2         0.0  0.0     0.0      0.0      0.0        0.0   0.0     0.0     0.0  \n",
            "3         0.0  0.0     0.0      0.0      0.0        0.0   0.0     0.0     0.0  \n",
            "4         0.0  0.0     0.0      0.0      0.0        0.0   0.0     0.0     0.0  \n",
            "..        ...  ...     ...      ...      ...        ...   ...     ...     ...  \n",
            "995       0.0  0.0     0.0      0.0      0.0        0.0   0.0     0.0     0.0  \n",
            "996       0.0  0.0     0.0      0.0      0.0        0.0   0.0     0.0     0.0  \n",
            "997       0.0  0.0     0.0      0.0      0.0        0.0   0.0     0.0     0.0  \n",
            "998       0.0  0.0     0.0      0.0      0.0        0.0   0.0     0.0     0.0  \n",
            "999       0.0  0.0     0.0      0.0      0.0        0.0   0.0     0.0     0.0  \n",
            "\n",
            "[1000 rows x 11993 columns]\n"
          ]
        }
      ]
    },
    {
      "cell_type": "code",
      "source": [
        "#feature selection\n",
        "\n",
        "from sklearn.feature_selection import SelectKBest, chi2\n",
        "\n",
        "# Select the top 100 features based on chi-squared score\n",
        "df_caption_tfidf.fillna(0, inplace=True)\n",
        "k = 100\n",
        "tfidf_matrix_selected2 = SelectKBest(chi2, k=k).fit_transform(df_caption_tfidf , df['Binary_Engagement'].to_list())\n",
        "print(tfidf_matrix_selected.shape)"
      ],
      "metadata": {
        "colab": {
          "base_uri": "https://localhost:8080/"
        },
        "id": "J9AUPNV8VUmy",
        "outputId": "9064bade-0cd1-4654-a118-c60791bcc0af"
      },
      "execution_count": null,
      "outputs": [
        {
          "output_type": "stream",
          "name": "stdout",
          "text": [
            "(1000, 100)\n"
          ]
        }
      ]
    },
    {
      "cell_type": "code",
      "source": [
        "# Importance of each word\n",
        "test = SelectKBest(score_func=chi2, k=k).fit(df_caption_tfidf , df['Binary_Engagement'].to_list())\n",
        "#print(fit.pvalues_.shape)\n",
        "\n",
        "df_column_score = pd.DataFrame({'Column_name': df_caption_tfidf.columns, 'P-value': test.pvalues_})\n",
        "# P-value of each word\n",
        "print(df_column_score.sort_values(by='P-value',ascending = True).head(100))\n"
      ],
      "metadata": {
        "colab": {
          "base_uri": "https://localhost:8080/"
        },
        "id": "2MQLoa4KVZZo",
        "outputId": "f941eae6-2bd9-423e-d378-27c365b35a71"
      },
      "execution_count": null,
      "outputs": [
        {
          "output_type": "stream",
          "name": "stdout",
          "text": [
            "      Column_name   P-value\n",
            "1841         cats  0.129829\n",
            "690        animal  0.131415\n",
            "1547  brianskerry  0.136981\n",
            "1998        chocó  0.146108\n",
            "3356      ecuador  0.162205\n",
            "...           ...       ...\n",
            "1833          cat  0.356757\n",
            "8163        point  0.357184\n",
            "3698      evolved  0.357754\n",
            "6737       meteor  0.357952\n",
            "8305    predators  0.359189\n",
            "\n",
            "[100 rows x 2 columns]\n"
          ]
        }
      ]
    },
    {
      "cell_type": "code",
      "source": [
        "\n",
        "#Logistic Regrssion\n",
        "from sklearn.model_selection import train_test_split\n",
        "from sklearn.linear_model import LogisticRegression\n",
        "from sklearn.metrics import confusion_matrix, accuracy_score\n",
        "\n",
        "X_train, X_test, y_train, y_test = train_test_split(tfidf_matrix_selected2, df['Binary_Engagement'].to_list(), test_size=0.2, random_state=42)\n",
        "\n",
        "model = LogisticRegression()\n",
        "model.fit(X_train, y_train)\n",
        "y_pred = model.predict(X_test)\n",
        "\n",
        "# Confusion matrix\n",
        "conf_matrix = confusion_matrix(y_test, y_pred)\n",
        "print(\"Confusion Matrix:\")\n",
        "print(conf_matrix)\n",
        "\n",
        "# Accuracy\n",
        "accuracy = accuracy_score(y_test, y_pred)\n",
        "print(\"\\nAccuracy:\", accuracy)"
      ],
      "metadata": {
        "colab": {
          "base_uri": "https://localhost:8080/"
        },
        "id": "o1VBn0c9V5VT",
        "outputId": "5174fa8a-c94c-43e4-d76e-8b5e65205f67"
      },
      "execution_count": null,
      "outputs": [
        {
          "output_type": "stream",
          "name": "stdout",
          "text": [
            "Confusion Matrix:\n",
            "[[77 30]\n",
            " [34 59]]\n",
            "\n",
            "Accuracy: 0.68\n"
          ]
        }
      ]
    },
    {
      "cell_type": "code",
      "source": [
        "tfidf_label = pd.DataFrame(tfidf_matrix_selected)\n",
        "tfidf_caption = pd.DataFrame(tfidf_matrix_selected2)\n",
        "\n",
        "# Concatenate horizontally\n",
        "combined_df = pd.concat([tfidf_label , tfidf_caption], axis=1)\n",
        "\n",
        "combined_df.columns = range(len(combined_df.columns))\n",
        "\n",
        "#print(combined_df)\n",
        "\n",
        "#Logistic Regrssion\n",
        "from sklearn.model_selection import train_test_split\n",
        "from sklearn.linear_model import LogisticRegression\n",
        "from sklearn.metrics import confusion_matrix, accuracy_score\n",
        "\n",
        "X_train, X_test, y_train, y_test = train_test_split(combined_df, df['Binary_Engagement'].to_list(), test_size=0.2, random_state=42)\n",
        "\n",
        "model = LogisticRegression()\n",
        "model.fit(X_train, y_train)\n",
        "y_pred = model.predict(X_test)\n",
        "\n",
        "# Confusion matrix\n",
        "conf_matrix = confusion_matrix(y_test, y_pred)\n",
        "print(\"Confusion Matrix:\")\n",
        "print(conf_matrix)\n",
        "\n",
        "# Accuracy\n",
        "accuracy = accuracy_score(y_test, y_pred)\n",
        "print(\"\\nAccuracy:\", accuracy)"
      ],
      "metadata": {
        "colab": {
          "base_uri": "https://localhost:8080/"
        },
        "id": "b7kFv0zWWM4Z",
        "outputId": "9032e83c-3ddf-42c6-9dca-cf67265bde5d"
      },
      "execution_count": null,
      "outputs": [
        {
          "output_type": "stream",
          "name": "stdout",
          "text": [
            "Confusion Matrix:\n",
            "[[78 29]\n",
            " [30 63]]\n",
            "\n",
            "Accuracy: 0.705\n"
          ]
        }
      ]
    },
    {
      "cell_type": "code",
      "source": [
        "df.to_csv('data_sheet.csv')"
      ],
      "metadata": {
        "id": "TLq0LeuA4zBZ"
      },
      "execution_count": null,
      "outputs": []
    }
  ]
}